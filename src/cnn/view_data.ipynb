{
 "cells": [
  {
   "cell_type": "code",
   "execution_count": 5,
   "metadata": {},
   "outputs": [],
   "source": [
    "import os\n",
    "import glob\n",
    "import numpy as np\n",
    "import torch\n",
    "\n",
    "from sklearn import model_selection\n",
    "from sklearn import metrics\n",
    "from sklearn import preprocessing\n",
    "\n",
    "import config \n",
    "import dataset\n",
    "import matplotlib.pyplot as plt\n",
    "%matplotlib inline"
   ]
  },
  {
   "cell_type": "code",
   "execution_count": 6,
   "metadata": {},
   "outputs": [],
   "source": [
    "# Get the image files, excluding the duplicate images\n",
    "train_image_files = [f for f in glob.glob(os.path.join(config.TRAIN_DATA_DIR, \"*.png\")) if \"(1)\" not in os.path.basename(f)]\n",
    "test_image_files = [f for f in glob.glob(os.path.join(config.TEST_DATA_DIR, \"*.png\")) if \"(1)\" not in os.path.basename(f)]\n",
    "\n",
    "# Get the targets, which are the names of the images without the .png extension\n",
    "train_targets_orig = [x.split(\"/\")[-1][:-6] for x in train_image_files]\n",
    "test_targets_orig = [x.split(\"/\")[-1][:-6] for x in test_image_files]\n",
    "\n",
    "# Convert the targets into a list of lists\n",
    "train_targets = [[c for c in x] for x in train_targets_orig]\n",
    "test_targets = [[c for c in x] for x in test_targets_orig]\n",
    "\n",
    "# Flatten the list of lists\n",
    "train_targets_flat = [c for clist in train_targets for c in clist]\n",
    "test_targets_flat = [c for clist in test_targets for c in clist]\n",
    "\n",
    "lbl_enc = preprocessing.LabelEncoder()\n",
    "lbl_enc.fit(train_targets_flat)\n",
    "\n",
    "# Encode the targets, add 1 to the result to make the padding value 0. \n",
    "train_targets_enc = [lbl_enc.transform(x) + 1 for x in train_targets]\n",
    "test_targets_enc = [lbl_enc.transform(x) + 1 for x in test_targets]\n",
    "\n",
    "train_max_length = max(len(seq) for seq in train_targets_enc)\n",
    "\n",
    "# Add padding to the sequences, this is the final target.\n",
    "train_targets_enc_padded = np.array([np.pad(seq, (0, train_max_length - len(seq)), constant_values=-1) for seq in train_targets_enc])\n",
    "test_targets_enc_padded = np.array([np.pad(seq, (0, train_max_length - len(seq)), constant_values=-1) for seq in test_targets_enc])\n",
    "\n",
    "train_dataset = dataset.ClassificationDataset(\n",
    "    image_paths=train_image_files,\n",
    "    targets=train_targets_enc_padded,\n",
    "    resize=(config.IMAGE_HEIGHT, config.IMAGE_WIDTH),\n",
    ")\n"
   ]
  },
  {
   "cell_type": "markdown",
   "metadata": {},
   "source": []
  },
  {
   "cell_type": "code",
   "execution_count": 7,
   "metadata": {},
   "outputs": [],
   "source": [
    "npimg = train_dataset[10][\"images\"].numpy()"
   ]
  },
  {
   "cell_type": "code",
   "execution_count": 8,
   "metadata": {},
   "outputs": [
    {
     "name": "stderr",
     "output_type": "stream",
     "text": [
      "Clipping input data to the valid range for imshow with RGB data ([0..1] for floats or [0..255] for integers).\n"
     ]
    },
    {
     "data": {
      "text/plain": [
       "<matplotlib.image.AxesImage at 0x29ac7c6d0>"
      ]
     },
     "execution_count": 8,
     "metadata": {},
     "output_type": "execute_result"
    },
    {
     "data": {
      "image/png": "[encoded data removed]",
      "text/plain": [
       "<Figure size 640x480 with 1 Axes>"
      ]
     },
     "metadata": {},
     "output_type": "display_data"
    }
   ],
   "source": [
    "plt.imshow(np.transpose(npimg, (1, 2, 0)))"
   ]
  },
  {
   "cell_type": "code",
   "execution_count": 9,
   "metadata": {},
   "outputs": [
    {
     "data": {
      "text/plain": [
       "{'images': tensor([[[2.2489, 2.2489, 2.2489,  ..., 2.2489, 2.2489, 2.2489],\n",
       "          [2.2489, 2.2489, 2.2489,  ..., 2.2489, 2.2489, 2.2489],\n",
       "          [2.2489, 2.2489, 2.2489,  ..., 2.2489, 2.2489, 2.2489],\n",
       "          ...,\n",
       "          [2.2489, 2.2489, 2.2489,  ..., 2.2489, 2.2489, 2.2489],\n",
       "          [2.2489, 2.2489, 2.2489,  ..., 2.2489, 2.2489, 2.2489],\n",
       "          [2.2489, 2.2489, 2.2489,  ..., 2.2489, 2.2489, 2.2489]],\n",
       " \n",
       "         [[2.4286, 2.4286, 2.4286,  ..., 2.4286, 2.4286, 2.4286],\n",
       "          [2.4286, 2.4286, 2.4286,  ..., 2.4286, 2.4286, 2.4286],\n",
       "          [2.4286, 2.4286, 2.4286,  ..., 2.4286, 2.4286, 2.4286],\n",
       "          ...,\n",
       "          [2.4286, 2.4286, 2.4286,  ..., 2.4286, 2.4286, 2.4286],\n",
       "          [2.4286, 2.4286, 2.4286,  ..., 2.4286, 2.4286, 2.4286],\n",
       "          [2.4286, 2.4286, 2.4286,  ..., 2.4286, 2.4286, 2.4286]],\n",
       " \n",
       "         [[2.6400, 2.6400, 2.6400,  ..., 2.6400, 2.6400, 2.6400],\n",
       "          [2.6400, 2.6400, 2.6400,  ..., 2.6400, 2.6400, 2.6400],\n",
       "          [2.6400, 2.6400, 2.6400,  ..., 2.6400, 2.6400, 2.6400],\n",
       "          ...,\n",
       "          [2.6400, 2.6400, 2.6400,  ..., 2.6400, 2.6400, 2.6400],\n",
       "          [2.6400, 2.6400, 2.6400,  ..., 2.6400, 2.6400, 2.6400],\n",
       "          [2.6400, 2.6400, 2.6400,  ..., 2.6400, 2.6400, 2.6400]]]),\n",
       " 'targets': tensor([32, 23, 19, 19, -1, -1, -1, -1])}"
      ]
     },
     "execution_count": 9,
     "metadata": {},
     "output_type": "execute_result"
    }
   ],
   "source": [
    "train_dataset[10]"
   ]
  }
 ],
 "metadata": {
  "kernelspec": {
   "display_name": "base",
   "language": "python",
   "name": "python3"
  },
  "language_info": {
   "codemirror_mode": {
    "name": "ipython",
    "version": 3
   },
   "file_extension": ".py",
   "mimetype": "text/x-python",
   "name": "python",
   "nbconvert_exporter": "python",
   "pygments_lexer": "ipython3",
   "version": "3.11.4"
  }
 },
 "nbformat": 4,
 "nbformat_minor": 2
}
