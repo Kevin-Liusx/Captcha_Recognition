{
 "cells": [
  {
   "cell_type": "code",
   "execution_count": 1,
   "metadata": {},
   "outputs": [
    {
     "name": "stderr",
     "output_type": "stream",
     "text": [
      "c:\\Users\\kevin\\anaconda3\\Lib\\site-packages\\albumentations\\__init__.py:24: UserWarning: A new version of Albumentations is available: 1.4.21 (you have 1.4.20). Upgrade using: pip install -U albumentations. To disable automatic update checks, set the environment variable NO_ALBUMENTATIONS_UPDATE to 1.\n",
      "  check_for_updates()\n"
     ]
    }
   ],
   "source": [
    "import os\n",
    "import glob\n",
    "import numpy as np\n",
    "import torch\n",
    "\n",
    "from sklearn import model_selection\n",
    "from sklearn import metrics\n",
    "from sklearn import preprocessing\n",
    "\n",
    "import config \n",
    "import dataset\n",
    "import matplotlib.pyplot as plt\n",
    "%matplotlib inline"
   ]
  },
  {
   "cell_type": "code",
   "execution_count": 2,
   "metadata": {},
   "outputs": [],
   "source": [
    "# Get the image files, excluding the duplicate images\n",
    "train_image_files = [f for f in glob.glob(os.path.join(config.TRAIN_DATA_DIR, \"*.png\")) if \"(1)\" not in os.path.basename(f)]\n",
    "test_image_files = [f for f in glob.glob(os.path.join(config.TEST_DATA_DIR, \"*.png\")) if \"(1)\" not in os.path.basename(f)]\n",
    "\n",
    "# Get the targets, which are the names of the images without the .png extension\n",
    "train_targets_orig = [x.split(\"\\\\\")[-1][:-6] for x in train_image_files]\n",
    "test_targets_orig = [x.split(\"\\\\\")[-1][:-6] for x in test_image_files]\n",
    "\n",
    "# Convert the targets into a list of lists\n",
    "train_targets = [[c for c in x] for x in train_targets_orig]\n",
    "test_targets = [[c for c in x] for x in test_targets_orig]\n",
    "\n",
    "# Flatten the list of lists\n",
    "train_targets_flat = [c for clist in train_targets for c in clist]\n",
    "test_targets_flat = [c for clist in test_targets for c in clist]\n",
    "\n",
    "lbl_enc = preprocessing.LabelEncoder()\n",
    "lbl_enc.fit(train_targets_flat)\n",
    "\n",
    "# Encode the targets, add 1 to the result to make the padding value 0. \n",
    "train_targets_enc = [lbl_enc.transform(x) + 1 for x in train_targets]\n",
    "test_targets_enc = [lbl_enc.transform(x) + 1 for x in test_targets]\n",
    "\n",
    "train_max_length = max(len(seq) for seq in train_targets_enc)\n",
    "\n",
    "# Add padding to the sequences, this is the final target.\n",
    "train_targets_enc_padded = np.array([np.pad(seq, (0, train_max_length - len(seq)), constant_values=-1) for seq in train_targets_enc])\n",
    "test_targets_enc_padded = np.array([np.pad(seq, (0, train_max_length - len(seq)), constant_values=-1) for seq in test_targets_enc])\n",
    "\n",
    "train_dataset = dataset.ClassificationDataset(\n",
    "    image_paths=train_image_files,\n",
    "    targets=train_targets_enc_padded,\n",
    "    resize=(config.IMAGE_HEIGHT, config.IMAGE_WIDTH),\n",
    ")\n"
   ]
  },
  {
   "cell_type": "markdown",
   "metadata": {},
   "source": []
  },
  {
   "cell_type": "code",
   "execution_count": 3,
   "metadata": {},
   "outputs": [],
   "source": [
    "npimg = train_dataset[30][\"images\"].numpy()"
   ]
  },
  {
   "cell_type": "code",
   "execution_count": 4,
   "metadata": {},
   "outputs": [
    {
     "name": "stdout",
     "output_type": "stream",
     "text": [
      "(1, 80, 300)\n"
     ]
    }
   ],
   "source": [
    "print(train_dataset[10][\"images\"].numpy().shape)"
   ]
  },
  {
   "cell_type": "markdown",
   "metadata": {},
   "source": []
  },
  {
   "cell_type": "code",
   "execution_count": 5,
   "metadata": {},
   "outputs": [
    {
     "data": {
      "text/plain": [
       "<matplotlib.image.AxesImage at 0x1e3b8734f50>"
      ]
     },
     "execution_count": 5,
     "metadata": {},
     "output_type": "execute_result"
    },
    {
     "data": {
      "image/png": "[encoded data removed]",
      "text/plain": [
       "<Figure size 640x480 with 1 Axes>"
      ]
     },
     "metadata": {},
     "output_type": "display_data"
    }
   ],
   "source": [
    "plt.imshow(np.transpose(npimg, (1, 2, 0)), cmap=\"gray\")"
   ]
  },
  {
   "cell_type": "code",
   "execution_count": 6,
   "metadata": {},
   "outputs": [
    {
     "data": {
      "text/plain": [
       "<matplotlib.image.AxesImage at 0x1e3b879a450>"
      ]
     },
     "execution_count": 6,
     "metadata": {},
     "output_type": "execute_result"
    },
    {
     "data": {
      "image/png": "[encoded data removed]",
      "text/plain": [
       "<Figure size 640x480 with 1 Axes>"
      ]
     },
     "metadata": {},
     "output_type": "display_data"
    }
   ],
   "source": [
    "plt.imshow(np.transpose(npimg, (1, 2, 0)), cmap=\"gray\")"
   ]
  },
  {
   "cell_type": "code",
   "execution_count": 7,
   "metadata": {},
   "outputs": [
    {
     "data": {
      "text/plain": [
       "{'images': tensor([[[2.2489, 2.2489, 2.2489,  ..., 2.2489, 2.2489, 2.2489],\n",
       "          [2.2489, 2.2489, 2.2489,  ..., 2.2489, 2.2489, 2.2489],\n",
       "          [2.2489, 2.2489, 2.2489,  ..., 2.2489, 2.2489, 2.2489],\n",
       "          ...,\n",
       "          [2.2489, 2.2489, 2.2489,  ..., 2.2489, 2.2489, 2.2489],\n",
       "          [2.2489, 2.2489, 2.2489,  ..., 2.2489, 2.2489, 2.2489],\n",
       "          [2.2489, 2.2489, 2.2489,  ..., 2.2489, 2.2489, 2.2489]]]),\n",
       " 'targets': tensor([ 1,  2,  9, 22, -1, -1, -1, -1])}"
      ]
     },
     "execution_count": 7,
     "metadata": {},
     "output_type": "execute_result"
    }
   ],
   "source": [
    "train_dataset[10]"
   ]
  }
 ],
 "metadata": {
  "kernelspec": {
   "display_name": "base",
   "language": "python",
   "name": "python3"
  },
  "language_info": {
   "codemirror_mode": {
    "name": "ipython",
    "version": 3
   },
   "file_extension": ".py",
   "mimetype": "text/x-python",
   "name": "python",
   "nbconvert_exporter": "python",
   "pygments_lexer": "ipython3",
   "version": "3.11.4"
  }
 },
 "nbformat": 4,
 "nbformat_minor": 2
}
